{
  "nbformat": 4,
  "nbformat_minor": 0,
  "metadata": {
    "colab": {
      "name": "crawl_selenium.ipynb",
      "provenance": []
    },
    "kernelspec": {
      "name": "python3",
      "display_name": "Python 3"
    },
    "language_info": {
      "name": "python"
    }
  },
  "cells": [
    {
      "cell_type": "code",
      "source": [
        "!apt-get update\n",
        "!pip install selenium\n",
        "!apt install chromium-chromedriver\n",
        "!cp /usr/lib/chromium-browser/chromedriver /usr/bin"
      ],
      "metadata": {
        "id": "k2x-f10ZB6Bx",
        "colab": {
          "base_uri": "https://localhost:8080/"
        },
        "outputId": "5916d9cd-ada0-4218-f4c2-f5d04ab0b82a"
      },
      "execution_count": 36,
      "outputs": [
        {
          "output_type": "stream",
          "name": "stdout",
          "text": [
            "\r0% [Working]\r            \rGet:1 http://security.ubuntu.com/ubuntu bionic-security InRelease [88.7 kB]\n",
            "\r0% [Connecting to archive.ubuntu.com (91.189.88.152)] [1 InRelease 12.3 kB/88.7\r                                                                               \rHit:2 https://cloud.r-project.org/bin/linux/ubuntu bionic-cran40/ InRelease\n",
            "\r0% [Connecting to archive.ubuntu.com (91.189.88.152)] [1 InRelease 88.7 kB/88.7\r0% [Connecting to archive.ubuntu.com (91.189.88.152)] [Connecting to ppa.launch\r0% [2 InRelease gpgv 3,626 B] [Connecting to archive.ubuntu.com (91.189.88.152)\r                                                                               \rIgn:3 https://developer.download.nvidia.com/compute/cuda/repos/ubuntu1804/x86_64  InRelease\n",
            "Hit:4 http://ppa.launchpad.net/c2d4u.team/c2d4u4.0+/ubuntu bionic InRelease\n",
            "Hit:5 http://archive.ubuntu.com/ubuntu bionic InRelease\n",
            "Ign:6 https://developer.download.nvidia.com/compute/machine-learning/repos/ubuntu1804/x86_64  InRelease\n",
            "Hit:7 https://developer.download.nvidia.com/compute/cuda/repos/ubuntu1804/x86_64  Release\n",
            "Hit:8 https://developer.download.nvidia.com/compute/machine-learning/repos/ubuntu1804/x86_64  Release\n",
            "Get:9 http://archive.ubuntu.com/ubuntu bionic-updates InRelease [88.7 kB]\n",
            "Hit:10 http://ppa.launchpad.net/cran/libgit2/ubuntu bionic InRelease\n",
            "Hit:11 http://ppa.launchpad.net/deadsnakes/ppa/ubuntu bionic InRelease\n",
            "Get:12 http://archive.ubuntu.com/ubuntu bionic-backports InRelease [74.6 kB]\n",
            "Hit:13 http://ppa.launchpad.net/graphics-drivers/ppa/ubuntu bionic InRelease\n",
            "Fetched 252 kB in 2s (103 kB/s)\n",
            "Reading package lists... Done\n",
            "Requirement already satisfied: selenium in /usr/local/lib/python3.7/dist-packages (4.1.0)\n",
            "Requirement already satisfied: trio-websocket~=0.9 in /usr/local/lib/python3.7/dist-packages (from selenium) (0.9.2)\n",
            "Requirement already satisfied: trio~=0.17 in /usr/local/lib/python3.7/dist-packages (from selenium) (0.19.0)\n",
            "Requirement already satisfied: urllib3[secure]~=1.26 in /usr/local/lib/python3.7/dist-packages (from selenium) (1.26.8)\n",
            "Requirement already satisfied: sniffio in /usr/local/lib/python3.7/dist-packages (from trio~=0.17->selenium) (1.2.0)\n",
            "Requirement already satisfied: sortedcontainers in /usr/local/lib/python3.7/dist-packages (from trio~=0.17->selenium) (2.4.0)\n",
            "Requirement already satisfied: async-generator>=1.9 in /usr/local/lib/python3.7/dist-packages (from trio~=0.17->selenium) (1.10)\n",
            "Requirement already satisfied: attrs>=19.2.0 in /usr/local/lib/python3.7/dist-packages (from trio~=0.17->selenium) (21.2.0)\n",
            "Requirement already satisfied: outcome in /usr/local/lib/python3.7/dist-packages (from trio~=0.17->selenium) (1.1.0)\n",
            "Requirement already satisfied: idna in /usr/local/lib/python3.7/dist-packages (from trio~=0.17->selenium) (2.10)\n",
            "Requirement already satisfied: wsproto>=0.14 in /usr/local/lib/python3.7/dist-packages (from trio-websocket~=0.9->selenium) (1.0.0)\n",
            "Requirement already satisfied: pyOpenSSL>=0.14 in /usr/local/lib/python3.7/dist-packages (from urllib3[secure]~=1.26->selenium) (21.0.0)\n",
            "Requirement already satisfied: cryptography>=1.3.4 in /usr/local/lib/python3.7/dist-packages (from urllib3[secure]~=1.26->selenium) (36.0.1)\n",
            "Requirement already satisfied: certifi in /usr/local/lib/python3.7/dist-packages (from urllib3[secure]~=1.26->selenium) (2021.10.8)\n",
            "Requirement already satisfied: cffi>=1.12 in /usr/local/lib/python3.7/dist-packages (from cryptography>=1.3.4->urllib3[secure]~=1.26->selenium) (1.15.0)\n",
            "Requirement already satisfied: pycparser in /usr/local/lib/python3.7/dist-packages (from cffi>=1.12->cryptography>=1.3.4->urllib3[secure]~=1.26->selenium) (2.21)\n",
            "Requirement already satisfied: six>=1.5.2 in /usr/local/lib/python3.7/dist-packages (from pyOpenSSL>=0.14->urllib3[secure]~=1.26->selenium) (1.15.0)\n",
            "Requirement already satisfied: h11<1,>=0.9.0 in /usr/local/lib/python3.7/dist-packages (from wsproto>=0.14->trio-websocket~=0.9->selenium) (0.12.0)\n",
            "Reading package lists... Done\n",
            "Building dependency tree       \n",
            "Reading state information... Done\n",
            "chromium-chromedriver is already the newest version (95.0.4638.69-0ubuntu0.18.04.1).\n",
            "0 upgraded, 0 newly installed, 0 to remove and 39 not upgraded.\n",
            "cp: '/usr/lib/chromium-browser/chromedriver' and '/usr/bin/chromedriver' are the same file\n"
          ]
        }
      ]
    },
    {
      "cell_type": "code",
      "execution_count": 58,
      "metadata": {
        "id": "IVHnOoHJBY3g"
      },
      "outputs": [],
      "source": [
        "from selenium import webdriver\n",
        "from time import sleep\n",
        "from selenium.webdriver.chrome.options import Options\n",
        "import csv\n",
        "# Options\n",
        "chrome_options = Options()\n",
        "chrome_options.add_argument(\"--incognito\")\n",
        "chrome_options.add_argument(\"--headless\")"
      ]
    },
    {
      "cell_type": "code",
      "source": [
        "import re\n",
        "def swap(val):\n",
        "    val = re.sub(r'\\D', \"\",val)\n",
        "    return int(val)"
      ],
      "metadata": {
        "id": "QF-Ky0huft6T"
      },
      "execution_count": 59,
      "outputs": []
    },
    {
      "cell_type": "code",
      "source": [
        "list_link_products = []\n",
        "url = 'https://fptshop.com.vn/may-tinh-xach-tay?sort=ban-chay-nhat&trang=10'"
      ],
      "metadata": {
        "id": "RDH--g_QZdog"
      },
      "execution_count": 60,
      "outputs": []
    },
    {
      "cell_type": "code",
      "source": [
        "browser = webdriver.Chrome(options=options)\n",
        "browser.get(url)"
      ],
      "metadata": {
        "id": "qThpuhHv_psH"
      },
      "execution_count": 61,
      "outputs": []
    },
    {
      "cell_type": "code",
      "source": [
        "links_element = browser.find_elements_by_xpath('//*[@class=\"cdt-product__info\"]/h3/a')  \n",
        "for i in links_element:\n",
        "    link=i.get_attribute(\"href\")   \n",
        "    list_link_products.append(link)\n",
        "sleep(10)"
      ],
      "metadata": {
        "colab": {
          "base_uri": "https://localhost:8080/"
        },
        "id": "RIV-XZWtKWK7",
        "outputId": "e74df902-6b15-4764-f12d-9e151dc32007"
      },
      "execution_count": 62,
      "outputs": [
        {
          "output_type": "stream",
          "name": "stderr",
          "text": [
            "/usr/local/lib/python3.7/dist-packages/ipykernel_launcher.py:1: DeprecationWarning: find_elements_by_* commands are deprecated. Please use find_elements() instead\n",
            "  \"\"\"Entry point for launching an IPython kernel.\n"
          ]
        }
      ]
    },
    {
      "cell_type": "code",
      "source": [
        "csv_columns = ['Product','Price','Brand','Core','RAM','ScrSize','GraphicCard','Capacity','OperSystem','Weight','URL']\n",
        "\n",
        "with open('data.csv', \"a\", encoding=\"utf8\") as f:\n",
        "    writer = csv.DictWriter(f, fieldnames=csv_columns)\n",
        "    writer.writeheader()"
      ],
      "metadata": {
        "id": "9jY0JdjqRN2P"
      },
      "execution_count": 63,
      "outputs": []
    },
    {
      "cell_type": "code",
      "source": [
        "for link in list_link_products:\n",
        "    browser.get(link)\n",
        "    try:\n",
        "        if len(browser.find_elements_by_xpath ('//*[@class=\"st-pd-table\"]/tbody/tr')) == 10 :\n",
        "            scr=browser.find_element_by_xpath('//*[@class=\"st-pd-table\"]/tbody/tr[3]/td[2]/span').text\n",
        "            ram=browser.find_element_by_xpath('//*[@class=\"st-pd-table\"]/tbody/tr[2]/td[2]/span').text\n",
        "            capacity=swap(browser.find_element_by_xpath('//*[@class=\"st-pd-table\"]/tbody/tr[5]/td[2]/span').text)\n",
        "            if capacity <10:\n",
        "                capacity = 1000\n",
        "            brand = browser.find_element_by_xpath('//*[@id=\"root\"]/main/div/div[1]/div[1]/div/ol/li[3]/a').text\n",
        "            if 'Apple' in brand:\n",
        "                opsys = 'Mac OS'\n",
        "            else:\n",
        "                opsys = 'Window'\n",
        "\n",
        "            data = {\n",
        "                \"Product\" : browser.find_element_by_xpath('//*[@class=\"st-name\"]').text,\n",
        "                \"Price\" : swap(browser.find_element_by_xpath('//*[@class=\"st-price-main\"]').text),\n",
        "                \"Brand\" : brand,\n",
        "                \"Core\" : browser.find_element_by_xpath('//*[@class=\"st-pd-table\"]/tbody/tr[1]/td[2]/span').text,\n",
        "                \"RAM\" : swap(ram[:2]),\n",
        "                \"ScrSize\" : scr[:4],\n",
        "                \"GraphicCard\" : browser.find_element_by_xpath('//*[@class=\"st-pd-table\"]/tbody/tr[4]/td[2]/span').text,\n",
        "                \"Capacity\" : capacity,\n",
        "                \"OperSystem\" : opsys,\n",
        "                \"Weight\" : browser.find_element_by_xpath('//*[@class=\"st-pd-table\"]/tbody/tr[7]/td[2]/span').text,\n",
        "                \"URL\":link,\n",
        "                } \n",
        "            with open('data.csv', \"a\", encoding=\"utf8\") as f:\n",
        "                writer = csv.DictWriter(f, fieldnames=csv_columns)\n",
        "                writer.writerow(data)\n",
        "                \n",
        "        else:\n",
        "            pass\n",
        "    except:\n",
        "        pass\n",
        "browser.close()"
      ],
      "metadata": {
        "colab": {
          "base_uri": "https://localhost:8080/"
        },
        "id": "j04I9HSgR89s",
        "outputId": "c3694f67-8741-4998-afd1-16f0006295f3"
      },
      "execution_count": 64,
      "outputs": [
        {
          "output_type": "stream",
          "name": "stderr",
          "text": [
            "/usr/local/lib/python3.7/dist-packages/ipykernel_launcher.py:4: DeprecationWarning: find_elements_by_* commands are deprecated. Please use find_elements() instead\n",
            "  after removing the cwd from sys.path.\n",
            "/usr/local/lib/python3.7/dist-packages/ipykernel_launcher.py:5: DeprecationWarning: find_element_by_* commands are deprecated. Please use find_element() instead\n",
            "  \"\"\"\n",
            "/usr/local/lib/python3.7/dist-packages/ipykernel_launcher.py:6: DeprecationWarning: find_element_by_* commands are deprecated. Please use find_element() instead\n",
            "  \n",
            "/usr/local/lib/python3.7/dist-packages/ipykernel_launcher.py:7: DeprecationWarning: find_element_by_* commands are deprecated. Please use find_element() instead\n",
            "  import sys\n",
            "/usr/local/lib/python3.7/dist-packages/ipykernel_launcher.py:10: DeprecationWarning: find_element_by_* commands are deprecated. Please use find_element() instead\n",
            "  # Remove the CWD from sys.path while we load stuff.\n",
            "/usr/local/lib/python3.7/dist-packages/ipykernel_launcher.py:17: DeprecationWarning: find_element_by_* commands are deprecated. Please use find_element() instead\n",
            "/usr/local/lib/python3.7/dist-packages/ipykernel_launcher.py:18: DeprecationWarning: find_element_by_* commands are deprecated. Please use find_element() instead\n",
            "/usr/local/lib/python3.7/dist-packages/ipykernel_launcher.py:20: DeprecationWarning: find_element_by_* commands are deprecated. Please use find_element() instead\n",
            "/usr/local/lib/python3.7/dist-packages/ipykernel_launcher.py:23: DeprecationWarning: find_element_by_* commands are deprecated. Please use find_element() instead\n",
            "/usr/local/lib/python3.7/dist-packages/ipykernel_launcher.py:26: DeprecationWarning: find_element_by_* commands are deprecated. Please use find_element() instead\n"
          ]
        }
      ]
    },
    {
      "cell_type": "code",
      "source": [
        "browser.close()"
      ],
      "metadata": {
        "id": "gqdSAAe05Zl0"
      },
      "execution_count": null,
      "outputs": []
    },
    {
      "cell_type": "code",
      "source": [
        "import pandas as pd"
      ],
      "metadata": {
        "id": "G5mvxDhvqAc-"
      },
      "execution_count": null,
      "outputs": []
    },
    {
      "cell_type": "code",
      "source": [
        "df = pd.read_csv('data.csv')"
      ],
      "metadata": {
        "id": "PcDtfZ9vqPBr"
      },
      "execution_count": 66,
      "outputs": []
    },
    {
      "cell_type": "code",
      "source": [
        "df = df.drop(columns=\"Weight\")"
      ],
      "metadata": {
        "id": "oAklcByhrKa9"
      },
      "execution_count": 70,
      "outputs": []
    },
    {
      "cell_type": "code",
      "source": [
        "df"
      ],
      "metadata": {
        "colab": {
          "base_uri": "https://localhost:8080/",
          "height": 867
        },
        "id": "cJn8hd8mqYfb",
        "outputId": "8eb1a145-e060-49e8-de78-669015059417"
      },
      "execution_count": 71,
      "outputs": [
        {
          "output_type": "execute_result",
          "data": {
            "text/html": [
              "\n",
              "  <div id=\"df-c2e5c97f-d63e-4ca9-8ea3-583b0d4b3a5b\">\n",
              "    <div class=\"colab-df-container\">\n",
              "      <div>\n",
              "<style scoped>\n",
              "    .dataframe tbody tr th:only-of-type {\n",
              "        vertical-align: middle;\n",
              "    }\n",
              "\n",
              "    .dataframe tbody tr th {\n",
              "        vertical-align: top;\n",
              "    }\n",
              "\n",
              "    .dataframe thead th {\n",
              "        text-align: right;\n",
              "    }\n",
              "</style>\n",
              "<table border=\"1\" class=\"dataframe\">\n",
              "  <thead>\n",
              "    <tr style=\"text-align: right;\">\n",
              "      <th></th>\n",
              "      <th>Product</th>\n",
              "      <th>Price</th>\n",
              "      <th>Brand</th>\n",
              "      <th>Core</th>\n",
              "      <th>RAM</th>\n",
              "      <th>ScrSize</th>\n",
              "      <th>GraphicCard</th>\n",
              "      <th>Capacity</th>\n",
              "      <th>OperSystem</th>\n",
              "      <th>URL</th>\n",
              "    </tr>\n",
              "  </thead>\n",
              "  <tbody>\n",
              "    <tr>\n",
              "      <th>0</th>\n",
              "      <td>Laptop HP 240 G8 i5 1135G7/8GB/512GB/14.0\"HD/W...</td>\n",
              "      <td>17599000</td>\n",
              "      <td>HP</td>\n",
              "      <td>Intel Core i5-1135G7</td>\n",
              "      <td>8</td>\n",
              "      <td>14.0</td>\n",
              "      <td>Intel Iris Xe Graphics</td>\n",
              "      <td>512</td>\n",
              "      <td>Window</td>\n",
              "      <td>https://fptshop.com.vn/may-tinh-xach-tay/hp-24...</td>\n",
              "    </tr>\n",
              "    <tr>\n",
              "      <th>1</th>\n",
              "      <td>Laptop HP 240 G8 Pentium N5030/4GB/256GB/14.0\"...</td>\n",
              "      <td>10790000</td>\n",
              "      <td>HP</td>\n",
              "      <td>Intel Pentium N5030</td>\n",
              "      <td>4</td>\n",
              "      <td>14.0</td>\n",
              "      <td>Intel UHD Graphics 605</td>\n",
              "      <td>256</td>\n",
              "      <td>Window</td>\n",
              "      <td>https://fptshop.com.vn/may-tinh-xach-tay/hp-24...</td>\n",
              "    </tr>\n",
              "    <tr>\n",
              "      <th>2</th>\n",
              "      <td>Laptop Asus Vivobook X515EP-BQ189T i5 1135G7/ ...</td>\n",
              "      <td>18599000</td>\n",
              "      <td>Asus</td>\n",
              "      <td>Intel Core i5-1135G7</td>\n",
              "      <td>8</td>\n",
              "      <td>15.6</td>\n",
              "      <td>NVIDIA GeForce MX330 2 GB &amp; Intel Iris Xe Grap...</td>\n",
              "      <td>512</td>\n",
              "      <td>Window</td>\n",
              "      <td>https://fptshop.com.vn/may-tinh-xach-tay/asus-...</td>\n",
              "    </tr>\n",
              "    <tr>\n",
              "      <th>3</th>\n",
              "      <td>Laptop Acer Travel Mate B3 TMB311-31-C2HB Cele...</td>\n",
              "      <td>9499000</td>\n",
              "      <td>Acer</td>\n",
              "      <td>Intel Celeron N4020</td>\n",
              "      <td>4</td>\n",
              "      <td>11.6</td>\n",
              "      <td>Intel UHD Graphics 605</td>\n",
              "      <td>128</td>\n",
              "      <td>Window</td>\n",
              "      <td>https://fptshop.com.vn/may-tinh-xach-tay/acer-...</td>\n",
              "    </tr>\n",
              "    <tr>\n",
              "      <th>4</th>\n",
              "      <td>Laptop MSI Modern 15 A5M 234VN R5 5500U/8GB/51...</td>\n",
              "      <td>17499000</td>\n",
              "      <td>MSI</td>\n",
              "      <td>AMD Ryzen 5-5500U</td>\n",
              "      <td>8</td>\n",
              "      <td>15.6</td>\n",
              "      <td>AMD Radeon Graphics</td>\n",
              "      <td>512</td>\n",
              "      <td>Window</td>\n",
              "      <td>https://fptshop.com.vn/may-tinh-xach-tay/msi-m...</td>\n",
              "    </tr>\n",
              "    <tr>\n",
              "      <th>...</th>\n",
              "      <td>...</td>\n",
              "      <td>...</td>\n",
              "      <td>...</td>\n",
              "      <td>...</td>\n",
              "      <td>...</td>\n",
              "      <td>...</td>\n",
              "      <td>...</td>\n",
              "      <td>...</td>\n",
              "      <td>...</td>\n",
              "      <td>...</td>\n",
              "    </tr>\n",
              "    <tr>\n",
              "      <th>281</th>\n",
              "      <td>Laptop HP 15s-du1106TU i3 10110U/4GB/512GB SSD...</td>\n",
              "      <td>12890000</td>\n",
              "      <td>HP</td>\n",
              "      <td>Intel Core i3-10110U</td>\n",
              "      <td>4</td>\n",
              "      <td>15.6</td>\n",
              "      <td>Intel UHD Graphics</td>\n",
              "      <td>512</td>\n",
              "      <td>Window</td>\n",
              "      <td>https://fptshop.com.vn/may-tinh-xach-tay/hp-15...</td>\n",
              "    </tr>\n",
              "    <tr>\n",
              "      <th>282</th>\n",
              "      <td>Laptop Dell Inspiron N3501 i3 1115G4/4GB/256GB...</td>\n",
              "      <td>13899000</td>\n",
              "      <td>Dell</td>\n",
              "      <td>Intel Core i3-1115G4</td>\n",
              "      <td>4</td>\n",
              "      <td>15.6</td>\n",
              "      <td>Intel UHD Graphics</td>\n",
              "      <td>256</td>\n",
              "      <td>Window</td>\n",
              "      <td>https://fptshop.com.vn/may-tinh-xach-tay/dell-...</td>\n",
              "    </tr>\n",
              "    <tr>\n",
              "      <th>283</th>\n",
              "      <td>Laptop CHUWI GemiBook Pro Celeron N5100/8GB/25...</td>\n",
              "      <td>9299000</td>\n",
              "      <td>Chuwi</td>\n",
              "      <td>Intel Celeron N5100</td>\n",
              "      <td>8</td>\n",
              "      <td>14.0</td>\n",
              "      <td>Intel UHD Graphics</td>\n",
              "      <td>256</td>\n",
              "      <td>Window</td>\n",
              "      <td>https://fptshop.com.vn/may-tinh-xach-tay/chuwi...</td>\n",
              "    </tr>\n",
              "    <tr>\n",
              "      <th>284</th>\n",
              "      <td>Laptop CHUWI LarkBook Celeron N4120/8GB/256GB/...</td>\n",
              "      <td>9099000</td>\n",
              "      <td>Chuwi</td>\n",
              "      <td>Intel Celeron N4120</td>\n",
              "      <td>8</td>\n",
              "      <td>13.3</td>\n",
              "      <td>Intel UHD Graphics 600</td>\n",
              "      <td>256</td>\n",
              "      <td>Window</td>\n",
              "      <td>https://fptshop.com.vn/may-tinh-xach-tay/chuwi...</td>\n",
              "    </tr>\n",
              "    <tr>\n",
              "      <th>285</th>\n",
              "      <td>Laptop CHUWI LarkBook Celeron N4120/8GB/256GB/...</td>\n",
              "      <td>8899000</td>\n",
              "      <td>Chuwi</td>\n",
              "      <td>Intel Celeron N4120</td>\n",
              "      <td>8</td>\n",
              "      <td>13.3</td>\n",
              "      <td>Intel UHD Graphics 600</td>\n",
              "      <td>256</td>\n",
              "      <td>Window</td>\n",
              "      <td>https://fptshop.com.vn/may-tinh-xach-tay/chuwi...</td>\n",
              "    </tr>\n",
              "  </tbody>\n",
              "</table>\n",
              "<p>286 rows × 10 columns</p>\n",
              "</div>\n",
              "      <button class=\"colab-df-convert\" onclick=\"convertToInteractive('df-c2e5c97f-d63e-4ca9-8ea3-583b0d4b3a5b')\"\n",
              "              title=\"Convert this dataframe to an interactive table.\"\n",
              "              style=\"display:none;\">\n",
              "        \n",
              "  <svg xmlns=\"http://www.w3.org/2000/svg\" height=\"24px\"viewBox=\"0 0 24 24\"\n",
              "       width=\"24px\">\n",
              "    <path d=\"M0 0h24v24H0V0z\" fill=\"none\"/>\n",
              "    <path d=\"M18.56 5.44l.94 2.06.94-2.06 2.06-.94-2.06-.94-.94-2.06-.94 2.06-2.06.94zm-11 1L8.5 8.5l.94-2.06 2.06-.94-2.06-.94L8.5 2.5l-.94 2.06-2.06.94zm10 10l.94 2.06.94-2.06 2.06-.94-2.06-.94-.94-2.06-.94 2.06-2.06.94z\"/><path d=\"M17.41 7.96l-1.37-1.37c-.4-.4-.92-.59-1.43-.59-.52 0-1.04.2-1.43.59L10.3 9.45l-7.72 7.72c-.78.78-.78 2.05 0 2.83L4 21.41c.39.39.9.59 1.41.59.51 0 1.02-.2 1.41-.59l7.78-7.78 2.81-2.81c.8-.78.8-2.07 0-2.86zM5.41 20L4 18.59l7.72-7.72 1.47 1.35L5.41 20z\"/>\n",
              "  </svg>\n",
              "      </button>\n",
              "      \n",
              "  <style>\n",
              "    .colab-df-container {\n",
              "      display:flex;\n",
              "      flex-wrap:wrap;\n",
              "      gap: 12px;\n",
              "    }\n",
              "\n",
              "    .colab-df-convert {\n",
              "      background-color: #E8F0FE;\n",
              "      border: none;\n",
              "      border-radius: 50%;\n",
              "      cursor: pointer;\n",
              "      display: none;\n",
              "      fill: #1967D2;\n",
              "      height: 32px;\n",
              "      padding: 0 0 0 0;\n",
              "      width: 32px;\n",
              "    }\n",
              "\n",
              "    .colab-df-convert:hover {\n",
              "      background-color: #E2EBFA;\n",
              "      box-shadow: 0px 1px 2px rgba(60, 64, 67, 0.3), 0px 1px 3px 1px rgba(60, 64, 67, 0.15);\n",
              "      fill: #174EA6;\n",
              "    }\n",
              "\n",
              "    [theme=dark] .colab-df-convert {\n",
              "      background-color: #3B4455;\n",
              "      fill: #D2E3FC;\n",
              "    }\n",
              "\n",
              "    [theme=dark] .colab-df-convert:hover {\n",
              "      background-color: #434B5C;\n",
              "      box-shadow: 0px 1px 3px 1px rgba(0, 0, 0, 0.15);\n",
              "      filter: drop-shadow(0px 1px 2px rgba(0, 0, 0, 0.3));\n",
              "      fill: #FFFFFF;\n",
              "    }\n",
              "  </style>\n",
              "\n",
              "      <script>\n",
              "        const buttonEl =\n",
              "          document.querySelector('#df-c2e5c97f-d63e-4ca9-8ea3-583b0d4b3a5b button.colab-df-convert');\n",
              "        buttonEl.style.display =\n",
              "          google.colab.kernel.accessAllowed ? 'block' : 'none';\n",
              "\n",
              "        async function convertToInteractive(key) {\n",
              "          const element = document.querySelector('#df-c2e5c97f-d63e-4ca9-8ea3-583b0d4b3a5b');\n",
              "          const dataTable =\n",
              "            await google.colab.kernel.invokeFunction('convertToInteractive',\n",
              "                                                     [key], {});\n",
              "          if (!dataTable) return;\n",
              "\n",
              "          const docLinkHtml = 'Like what you see? Visit the ' +\n",
              "            '<a target=\"_blank\" href=https://colab.research.google.com/notebooks/data_table.ipynb>data table notebook</a>'\n",
              "            + ' to learn more about interactive tables.';\n",
              "          element.innerHTML = '';\n",
              "          dataTable['output_type'] = 'display_data';\n",
              "          await google.colab.output.renderOutput(dataTable, element);\n",
              "          const docLink = document.createElement('div');\n",
              "          docLink.innerHTML = docLinkHtml;\n",
              "          element.appendChild(docLink);\n",
              "        }\n",
              "      </script>\n",
              "    </div>\n",
              "  </div>\n",
              "  "
            ],
            "text/plain": [
              "                                               Product  ...                                                URL\n",
              "0    Laptop HP 240 G8 i5 1135G7/8GB/512GB/14.0\"HD/W...  ...  https://fptshop.com.vn/may-tinh-xach-tay/hp-24...\n",
              "1    Laptop HP 240 G8 Pentium N5030/4GB/256GB/14.0\"...  ...  https://fptshop.com.vn/may-tinh-xach-tay/hp-24...\n",
              "2    Laptop Asus Vivobook X515EP-BQ189T i5 1135G7/ ...  ...  https://fptshop.com.vn/may-tinh-xach-tay/asus-...\n",
              "3    Laptop Acer Travel Mate B3 TMB311-31-C2HB Cele...  ...  https://fptshop.com.vn/may-tinh-xach-tay/acer-...\n",
              "4    Laptop MSI Modern 15 A5M 234VN R5 5500U/8GB/51...  ...  https://fptshop.com.vn/may-tinh-xach-tay/msi-m...\n",
              "..                                                 ...  ...                                                ...\n",
              "281  Laptop HP 15s-du1106TU i3 10110U/4GB/512GB SSD...  ...  https://fptshop.com.vn/may-tinh-xach-tay/hp-15...\n",
              "282  Laptop Dell Inspiron N3501 i3 1115G4/4GB/256GB...  ...  https://fptshop.com.vn/may-tinh-xach-tay/dell-...\n",
              "283  Laptop CHUWI GemiBook Pro Celeron N5100/8GB/25...  ...  https://fptshop.com.vn/may-tinh-xach-tay/chuwi...\n",
              "284  Laptop CHUWI LarkBook Celeron N4120/8GB/256GB/...  ...  https://fptshop.com.vn/may-tinh-xach-tay/chuwi...\n",
              "285  Laptop CHUWI LarkBook Celeron N4120/8GB/256GB/...  ...  https://fptshop.com.vn/may-tinh-xach-tay/chuwi...\n",
              "\n",
              "[286 rows x 10 columns]"
            ]
          },
          "metadata": {},
          "execution_count": 71
        }
      ]
    },
    {
      "cell_type": "code",
      "source": [
        "df.to_csv('data_new.csv')"
      ],
      "metadata": {
        "id": "83SusfhNrTe-"
      },
      "execution_count": 73,
      "outputs": []
    }
  ]
}